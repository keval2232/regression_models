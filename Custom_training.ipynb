{
  "nbformat": 4,
  "nbformat_minor": 0,
  "metadata": {
    "colab": {
      "name": "Custom_training.ipynb",
      "provenance": [],
      "collapsed_sections": [],
      "authorship_tag": "ABX9TyO7MX73B8LfzSSIUXHIwtEc",
      "include_colab_link": true
    },
    "kernelspec": {
      "name": "python3",
      "display_name": "Python 3"
    },
    "language_info": {
      "name": "python"
    }
  },
  "cells": [
    {
      "cell_type": "markdown",
      "metadata": {
        "id": "view-in-github",
        "colab_type": "text"
      },
      "source": [
        "<a href=\"https://colab.research.google.com/github/keval2232/regression_models/blob/main/Custom_training.ipynb\" target=\"_parent\"><img src=\"https://colab.research.google.com/assets/colab-badge.svg\" alt=\"Open In Colab\"/></a>"
      ]
    },
    {
      "cell_type": "markdown",
      "metadata": {
        "id": "J295ZxHkvPJv"
      },
      "source": [
        "## import section"
      ]
    },
    {
      "cell_type": "code",
      "metadata": {
        "id": "w8TuXKAdpxi3"
      },
      "source": [
        "import tensorflow as tf\n",
        "import numpy as np\n",
        "import matplotlib.pyplot as plt\n"
      ],
      "execution_count": 1,
      "outputs": []
    },
    {
      "cell_type": "markdown",
      "metadata": {
        "id": "xtE4n2KhvSMu"
      },
      "source": [
        "## Define Model\n",
        "\n",
        "You define your model as a class. \n",
        "- `x` is your input tensor. \n",
        "- The model should output values of **wx+b**. \n",
        "- You'll start off by initializing w and b to random values. \n",
        "- During the training process, values of w and b get updated in accordance with linear regression so as to minimize the loss incurred by the model. \n",
        "- Once you arrive at optimal values for w and b, the model would have been trained to correctly predict the values of wx+b.\n",
        "\n",
        "Hence, \n",
        "- **w** and **b** are trainable weights of the model. \n",
        "- **x** is the input\n",
        "- **y** = wx + b is the output"
      ]
    },
    {
      "cell_type": "code",
      "metadata": {
        "id": "4jfGAEK3p6Gr"
      },
      "source": [
        "class Model(object):\n",
        "  def __init__(self):\n",
        "    self.w=tf.Variable(5.0)\n",
        "    self.b=tf.Variable(0.0)\n",
        "  def __call__(self,x):\n",
        "    return self.w*x+self.b  \n",
        "model = Model()    "
      ],
      "execution_count": 3,
      "outputs": []
    },
    {
      "cell_type": "markdown",
      "metadata": {
        "id": "LWf6cEoqvVWG"
      },
      "source": [
        "### Obtain training data\n",
        "\n",
        "First, synthesize the training data using the \"true\" w and \"true\" b. \n",
        "\n",
        "$$y = w_{true} \\times x + b_{true} $$"
      ]
    },
    {
      "cell_type": "code",
      "metadata": {
        "id": "YC0LBxxpqQK7"
      },
      "source": [
        "TRUE_w=3.0\n",
        "TRUE_b=2.0\n",
        "NUM_EXAMPLES=1000\n",
        "xs =  tf.random.normal(shape=[NUM_EXAMPLES])\n",
        "ys=(TRUE_w*xs)+TRUE_b\n",
        "#print(ys)"
      ],
      "execution_count": 7,
      "outputs": []
    },
    {
      "cell_type": "markdown",
      "metadata": {
        "id": "HHQYVKu3dHfV"
      },
      "source": [
        "## ploating of dataset"
      ]
    },
    {
      "cell_type": "code",
      "metadata": {
        "id": "Qwk1d7y8dK1M"
      },
      "source": [
        "def plot_data(inputs, outputs, predicted_outputs):\n",
        "  real = plt.scatter(inputs, outputs, c='b', marker='.')\n",
        "  predicted = plt.scatter(inputs, predicted_outputs, c='r', marker='+')\n",
        "  plt.legend((real,predicted), ('Real Data', 'Predicted Data'))\n",
        "  plt.show()"
      ],
      "execution_count": 5,
      "outputs": []
    },
    {
      "cell_type": "code",
      "metadata": {
        "colab": {
          "base_uri": "https://localhost:8080/",
          "height": 282
        },
        "id": "Fc5LXLLadMLO",
        "outputId": "fbb167f6-9437-4fcf-f4fc-14d635580089"
      },
      "source": [
        "plot_data(xs, ys, model(xs))\n",
        "print('Current loss: %1.6f' % loss(model(xs), ys).numpy())"
      ],
      "execution_count": 8,
      "outputs": [
        {
          "output_type": "display_data",
          "data": {
            "image/png": "[encoded data removed]",
            "text/plain": [
              "<Figure size 432x288 with 1 Axes>"
            ]
          },
          "metadata": {
            "needs_background": "light"
          }
        },
        {
          "output_type": "stream",
          "name": "stdout",
          "text": [
            "Current loss: 8.030962\n"
          ]
        }
      ]
    },
    {
      "cell_type": "markdown",
      "metadata": {
        "id": "MzMEephOvZu0"
      },
      "source": [
        "### Define a loss function\n",
        "\n",
        "A loss function measures how well the output of a model for a given input matches the target output. \n",
        "- The goal is to minimize this difference during training. \n",
        "- Let's use the standard L2 loss, also known as the least square errors\n",
        "$$Loss = \\sum_{i} \\left (y_{pred}^i - y_{target}^i \\right )^2$$"
      ]
    },
    {
      "cell_type": "code",
      "metadata": {
        "id": "VoDiVUe-rczU"
      },
      "source": [
        "def loss(y_true,y_pred):\n",
        "  return tf.reduce_mean(tf.square(y_true-y_pred))"
      ],
      "execution_count": 4,
      "outputs": []
    },
    {
      "cell_type": "markdown",
      "metadata": {
        "id": "iC6AyCEfvcjg"
      },
      "source": [
        "### Define a training loop\n",
        "\n",
        "With the network and training data, train the model using [gradient descent](https://en.wikipedia.org/wiki/Gradient_descent) \n",
        "- Gradient descent updates the trainable weights **w** and **b** to reduce the loss. \n",
        "\n",
        "\n",
        "There are many variants of the gradient descent scheme that are captured in `tf.train.Optimizer`—our recommended implementation. In the spirit of building from first principles, here you will implement the basic math yourself.\n",
        "- You'll use `tf.GradientTape` for automatic differentiation\n",
        "- Use `tf.assign_sub` for decrementing a value.  Note that assign_sub combines `tf.assign` and `tf.sub`"
      ]
    },
    {
      "cell_type": "code",
      "metadata": {
        "id": "03epB6mzrn93"
      },
      "source": [
        "def train(model,inputs,outputs,learning_rate):\n",
        "  with tf.GradientTape() as tape:\n",
        "    current_loss=loss(outputs,model(inputs))\n",
        "  dw,db=tape.gradient(current_loss,[model.w,model.b])\n",
        "  model.w.assign_sub(learning_rate*dw)\n",
        "  model.b.assign_sub(learning_rate*db)\n",
        "  return current_loss  "
      ],
      "execution_count": 10,
      "outputs": []
    },
    {
      "cell_type": "markdown",
      "metadata": {
        "id": "GS3ztAmaveqO"
      },
      "source": [
        "## defining the training loop"
      ]
    },
    {
      "cell_type": "code",
      "metadata": {
        "colab": {
          "base_uri": "https://localhost:8080/"
        },
        "id": "FrHCOGNnvksj",
        "outputId": "be6613b6-a2c1-4efe-bff7-2d8be5e24187"
      },
      "source": [
        "model = Model()\n",
        "\n",
        "# Collect the history of W-values and b-values to plot later\n",
        "list_w, list_b = [], []\n",
        "epochs = range(50)\n",
        "losses = []\n",
        "for epoch in epochs:\n",
        "  list_w.append(model.w.numpy())\n",
        "  list_b.append(model.b.numpy())\n",
        "  current_loss = train(model, xs, ys, learning_rate=0.1)\n",
        "  losses.append(current_loss)\n",
        "  print('Epoch %2d: w=%1.2f b=%1.2f, loss=%2.5f' %\n",
        "        (epoch, list_w[-1], list_b[-1], current_loss))"
      ],
      "execution_count": 11,
      "outputs": [
        {
          "output_type": "stream",
          "name": "stdout",
          "text": [
            "Epoch  0: w=5.00 b=0.00, loss=8.03096\n",
            "Epoch  1: w=4.60 b=0.41, loss=5.12962\n",
            "Epoch  2: w=4.28 b=0.73, loss=3.27654\n",
            "Epoch  3: w=4.03 b=0.99, loss=2.09294\n",
            "Epoch  4: w=3.82 b=1.19, loss=1.33694\n",
            "Epoch  5: w=3.66 b=1.36, loss=0.85404\n",
            "Epoch  6: w=3.53 b=1.49, loss=0.54558\n",
            "Epoch  7: w=3.42 b=1.59, loss=0.34854\n",
            "Epoch  8: w=3.34 b=1.67, loss=0.22266\n",
            "Epoch  9: w=3.27 b=1.74, loss=0.14226\n",
            "Epoch 10: w=3.22 b=1.79, loss=0.09089\n",
            "Epoch 11: w=3.18 b=1.84, loss=0.05807\n",
            "Epoch 12: w=3.14 b=1.87, loss=0.03710\n",
            "Epoch 13: w=3.11 b=1.90, loss=0.02371\n",
            "Epoch 14: w=3.09 b=1.92, loss=0.01515\n",
            "Epoch 15: w=3.07 b=1.93, loss=0.00968\n",
            "Epoch 16: w=3.06 b=1.95, loss=0.00619\n",
            "Epoch 17: w=3.05 b=1.96, loss=0.00395\n",
            "Epoch 18: w=3.04 b=1.97, loss=0.00253\n",
            "Epoch 19: w=3.03 b=1.97, loss=0.00161\n",
            "Epoch 20: w=3.02 b=1.98, loss=0.00103\n",
            "Epoch 21: w=3.02 b=1.98, loss=0.00066\n",
            "Epoch 22: w=3.02 b=1.99, loss=0.00042\n",
            "Epoch 23: w=3.01 b=1.99, loss=0.00027\n",
            "Epoch 24: w=3.01 b=1.99, loss=0.00017\n",
            "Epoch 25: w=3.01 b=1.99, loss=0.00011\n",
            "Epoch 26: w=3.01 b=1.99, loss=0.00007\n",
            "Epoch 27: w=3.01 b=2.00, loss=0.00004\n",
            "Epoch 28: w=3.00 b=2.00, loss=0.00003\n",
            "Epoch 29: w=3.00 b=2.00, loss=0.00002\n",
            "Epoch 30: w=3.00 b=2.00, loss=0.00001\n",
            "Epoch 31: w=3.00 b=2.00, loss=0.00001\n",
            "Epoch 32: w=3.00 b=2.00, loss=0.00000\n",
            "Epoch 33: w=3.00 b=2.00, loss=0.00000\n",
            "Epoch 34: w=3.00 b=2.00, loss=0.00000\n",
            "Epoch 35: w=3.00 b=2.00, loss=0.00000\n",
            "Epoch 36: w=3.00 b=2.00, loss=0.00000\n",
            "Epoch 37: w=3.00 b=2.00, loss=0.00000\n",
            "Epoch 38: w=3.00 b=2.00, loss=0.00000\n",
            "Epoch 39: w=3.00 b=2.00, loss=0.00000\n",
            "Epoch 40: w=3.00 b=2.00, loss=0.00000\n",
            "Epoch 41: w=3.00 b=2.00, loss=0.00000\n",
            "Epoch 42: w=3.00 b=2.00, loss=0.00000\n",
            "Epoch 43: w=3.00 b=2.00, loss=0.00000\n",
            "Epoch 44: w=3.00 b=2.00, loss=0.00000\n",
            "Epoch 45: w=3.00 b=2.00, loss=0.00000\n",
            "Epoch 46: w=3.00 b=2.00, loss=0.00000\n",
            "Epoch 47: w=3.00 b=2.00, loss=0.00000\n",
            "Epoch 48: w=3.00 b=2.00, loss=0.00000\n",
            "Epoch 49: w=3.00 b=2.00, loss=0.00000\n"
          ]
        }
      ]
    },
    {
      "cell_type": "code",
      "metadata": {
        "colab": {
          "base_uri": "https://localhost:8080/",
          "height": 265
        },
        "id": "POSFiDc7dztZ",
        "outputId": "c3bff62c-995e-4984-854f-2cb31a30a90c"
      },
      "source": [
        "plt.plot(epochs, list_w, 'r',\n",
        "       epochs, list_b, 'b')\n",
        "plt.plot([TRUE_w] * len(epochs), 'r--',\n",
        "      [TRUE_b] * len(epochs), 'b--')\n",
        "plt.legend(['w', 'b', 'True w', 'True b'])\n",
        "plt.show()"
      ],
      "execution_count": 12,
      "outputs": [
        {
          "output_type": "display_data",
          "data": {
            "image/png": "[encoded data removed]",
            "text/plain": [
              "<Figure size 432x288 with 1 Axes>"
            ]
          },
          "metadata": {
            "needs_background": "light"
          }
        }
      ]
    },
    {
      "cell_type": "markdown",
      "metadata": {
        "id": "ePOiKsjrd6q6"
      },
      "source": [
        "## Plots for Evaluation\n",
        "Now you can plot the actual outputs in red and the model's predictions in blue on a set of random test examples.\n",
        "\n",
        "You can see that the model is able to make predictions on the test set fairly accurately."
      ]
    },
    {
      "cell_type": "code",
      "metadata": {
        "colab": {
          "base_uri": "https://localhost:8080/",
          "height": 265
        },
        "id": "1fXc6bZnd384",
        "outputId": "82c427b0-e7bc-44cd-ae37-0ffea6274a14"
      },
      "source": [
        "test_inputs  = tf.random.normal(shape=[NUM_EXAMPLES])\n",
        "test_outputs = test_inputs * TRUE_w + TRUE_b\n",
        "\n",
        "predicted_test_outputs = model(test_inputs)\n",
        "plot_data(test_inputs, test_outputs, predicted_test_outputs)"
      ],
      "execution_count": 13,
      "outputs": [
        {
          "output_type": "display_data",
          "data": {
            "image/png": "[encoded data removed]",
            "text/plain": [
              "<Figure size 432x288 with 1 Axes>"
            ]
          },
          "metadata": {
            "needs_background": "light"
          }
        }
      ]
    },
    {
      "cell_type": "markdown",
      "metadata": {
        "id": "Vqpm4aNzd-b3"
      },
      "source": [
        "Visualize the cost function against the values of each of the trainable weights the model approximated to over time."
      ]
    },
    {
      "cell_type": "code",
      "metadata": {
        "colab": {
          "base_uri": "https://localhost:8080/",
          "height": 279
        },
        "id": "_N6jS965eCBQ",
        "outputId": "5a3d991a-4b0f-4446-fb29-477b992d2c4a"
      },
      "source": [
        "def plot_loss_for_weights(weights_list, losses):\n",
        "  for idx, weights in enumerate(weights_list):\n",
        "    plt.subplot(120 + idx + 1)\n",
        "    plt.plot(weights['values'], losses, 'r')\n",
        "    plt.plot(weights['values'], losses, 'bo')\n",
        "    plt.xlabel(weights['name'])\n",
        "    plt.ylabel('Loss')\n",
        "    \n",
        "    \n",
        "weights_list = [{ 'name' : \"w\",\n",
        "                  'values' : list_w\n",
        "                },\n",
        "                {\n",
        "                  'name' : \"b\",\n",
        "                  'values' : list_b\n",
        "                }]\n",
        "\n",
        "plot_loss_for_weights(weights_list, losses)"
      ],
      "execution_count": 14,
      "outputs": [
        {
          "output_type": "display_data",
          "data": {
            "image/png": "[encoded data removed]",
            "text/plain": [
              "<Figure size 432x288 with 2 Axes>"
            ]
          },
          "metadata": {
            "needs_background": "light"
          }
        }
      ]
    }
  ]
}