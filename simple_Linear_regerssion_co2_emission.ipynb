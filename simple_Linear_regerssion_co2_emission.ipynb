{
  "nbformat": 4,
  "nbformat_minor": 0,
  "metadata": {
    "colab": {
      "name": "simple_Linear_regerssion_co2 emission.ipynb",
      "provenance": []
    },
    "kernelspec": {
      "name": "python3",
      "display_name": "Python 3"
    }
  },
  "cells": [
    {
      "cell_type": "code",
      "metadata": {
        "id": "0CDqjittNcEY"
      },
      "source": [
        "#import of libraries \r\n",
        "import numpy as np\r\n",
        "import pandas as pd\r\n",
        "import pylab as pl\r\n",
        "import matplotlib.pyplot as plt"
      ],
      "execution_count": 1,
      "outputs": []
    },
    {
      "cell_type": "code",
      "metadata": {
        "colab": {
          "base_uri": "https://localhost:8080/"
        },
        "id": "HH34XMDbNd2a",
        "outputId": "46109e7a-0905-402b-bbef-37e22ecb57ab"
      },
      "source": [
        "#Downloading of dataset\r\n",
        "!wget -O FuelConsumption.csv https://cf-courses-data.s3.us.cloud-object-storage.appdomain.cloud/IBMDeveloperSkillsNetwork-ML0101EN-Coursera/labs/Data_files/FuelConsumptionCo2.csv"
      ],
      "execution_count": 2,
      "outputs": [
        {
          "output_type": "stream",
          "text": [
            "--2021-03-18 13:21:04--  https://cf-courses-data.s3.us.cloud-object-storage.appdomain.cloud/IBMDeveloperSkillsNetwork-ML0101EN-Coursera/labs/Data_files/FuelConsumptionCo2.csv\n",
            "Resolving cf-courses-data.s3.us.cloud-object-storage.appdomain.cloud (cf-courses-data.s3.us.cloud-object-storage.appdomain.cloud)... 169.45.118.108\n",
            "Connecting to cf-courses-data.s3.us.cloud-object-storage.appdomain.cloud (cf-courses-data.s3.us.cloud-object-storage.appdomain.cloud)|169.45.118.108|:443... connected.\n",
            "HTTP request sent, awaiting response... 200 OK\n",
            "Length: 72629 (71K) [text/csv]\n",
            "Saving to: ‘FuelConsumption.csv’\n",
            "\n",
            "FuelConsumption.csv 100%[===================>]  70.93K  96.5KB/s    in 0.7s    \n",
            "\n",
            "2021-03-18 13:21:06 (96.5 KB/s) - ‘FuelConsumption.csv’ saved [72629/72629]\n",
            "\n"
          ],
          "name": "stdout"
        }
      ]
    },
    {
      "cell_type": "code",
      "metadata": {
        "colab": {
          "base_uri": "https://localhost:8080/",
          "height": 266
        },
        "id": "PYjcnotIN7BW",
        "outputId": "4d561158-87f9-4e28-d12f-03a27dbbd2ef"
      },
      "source": [
        "#Reading the data \r\n",
        "df = pd.read_csv('FuelConsumption.csv')\r\n",
        "df.head()"
      ],
      "execution_count": 3,
      "outputs": [
        {
          "output_type": "execute_result",
          "data": {
            "text/html": [
              "<div>\n",
              "<style scoped>\n",
              "    .dataframe tbody tr th:only-of-type {\n",
              "        vertical-align: middle;\n",
              "    }\n",
              "\n",
              "    .dataframe tbody tr th {\n",
              "        vertical-align: top;\n",
              "    }\n",
              "\n",
              "    .dataframe thead th {\n",
              "        text-align: right;\n",
              "    }\n",
              "</style>\n",
              "<table border=\"1\" class=\"dataframe\">\n",
              "  <thead>\n",
              "    <tr style=\"text-align: right;\">\n",
              "      <th></th>\n",
              "      <th>MODELYEAR</th>\n",
              "      <th>MAKE</th>\n",
              "      <th>MODEL</th>\n",
              "      <th>VEHICLECLASS</th>\n",
              "      <th>ENGINESIZE</th>\n",
              "      <th>CYLINDERS</th>\n",
              "      <th>TRANSMISSION</th>\n",
              "      <th>FUELTYPE</th>\n",
              "      <th>FUELCONSUMPTION_CITY</th>\n",
              "      <th>FUELCONSUMPTION_HWY</th>\n",
              "      <th>FUELCONSUMPTION_COMB</th>\n",
              "      <th>FUELCONSUMPTION_COMB_MPG</th>\n",
              "      <th>CO2EMISSIONS</th>\n",
              "    </tr>\n",
              "  </thead>\n",
              "  <tbody>\n",
              "    <tr>\n",
              "      <th>0</th>\n",
              "      <td>2014</td>\n",
              "      <td>ACURA</td>\n",
              "      <td>ILX</td>\n",
              "      <td>COMPACT</td>\n",
              "      <td>2.0</td>\n",
              "      <td>4</td>\n",
              "      <td>AS5</td>\n",
              "      <td>Z</td>\n",
              "      <td>9.9</td>\n",
              "      <td>6.7</td>\n",
              "      <td>8.5</td>\n",
              "      <td>33</td>\n",
              "      <td>196</td>\n",
              "    </tr>\n",
              "    <tr>\n",
              "      <th>1</th>\n",
              "      <td>2014</td>\n",
              "      <td>ACURA</td>\n",
              "      <td>ILX</td>\n",
              "      <td>COMPACT</td>\n",
              "      <td>2.4</td>\n",
              "      <td>4</td>\n",
              "      <td>M6</td>\n",
              "      <td>Z</td>\n",
              "      <td>11.2</td>\n",
              "      <td>7.7</td>\n",
              "      <td>9.6</td>\n",
              "      <td>29</td>\n",
              "      <td>221</td>\n",
              "    </tr>\n",
              "    <tr>\n",
              "      <th>2</th>\n",
              "      <td>2014</td>\n",
              "      <td>ACURA</td>\n",
              "      <td>ILX HYBRID</td>\n",
              "      <td>COMPACT</td>\n",
              "      <td>1.5</td>\n",
              "      <td>4</td>\n",
              "      <td>AV7</td>\n",
              "      <td>Z</td>\n",
              "      <td>6.0</td>\n",
              "      <td>5.8</td>\n",
              "      <td>5.9</td>\n",
              "      <td>48</td>\n",
              "      <td>136</td>\n",
              "    </tr>\n",
              "    <tr>\n",
              "      <th>3</th>\n",
              "      <td>2014</td>\n",
              "      <td>ACURA</td>\n",
              "      <td>MDX 4WD</td>\n",
              "      <td>SUV - SMALL</td>\n",
              "      <td>3.5</td>\n",
              "      <td>6</td>\n",
              "      <td>AS6</td>\n",
              "      <td>Z</td>\n",
              "      <td>12.7</td>\n",
              "      <td>9.1</td>\n",
              "      <td>11.1</td>\n",
              "      <td>25</td>\n",
              "      <td>255</td>\n",
              "    </tr>\n",
              "    <tr>\n",
              "      <th>4</th>\n",
              "      <td>2014</td>\n",
              "      <td>ACURA</td>\n",
              "      <td>RDX AWD</td>\n",
              "      <td>SUV - SMALL</td>\n",
              "      <td>3.5</td>\n",
              "      <td>6</td>\n",
              "      <td>AS6</td>\n",
              "      <td>Z</td>\n",
              "      <td>12.1</td>\n",
              "      <td>8.7</td>\n",
              "      <td>10.6</td>\n",
              "      <td>27</td>\n",
              "      <td>244</td>\n",
              "    </tr>\n",
              "  </tbody>\n",
              "</table>\n",
              "</div>"
            ],
            "text/plain": [
              "   MODELYEAR   MAKE  ... FUELCONSUMPTION_COMB_MPG CO2EMISSIONS\n",
              "0       2014  ACURA  ...                       33          196\n",
              "1       2014  ACURA  ...                       29          221\n",
              "2       2014  ACURA  ...                       48          136\n",
              "3       2014  ACURA  ...                       25          255\n",
              "4       2014  ACURA  ...                       27          244\n",
              "\n",
              "[5 rows x 13 columns]"
            ]
          },
          "metadata": {
            "tags": []
          },
          "execution_count": 3
        }
      ]
    },
    {
      "cell_type": "code",
      "metadata": {
        "id": "fYQooOA9OYyP",
        "colab": {
          "base_uri": "https://localhost:8080/",
          "height": 284
        },
        "outputId": "bca5cea9-6a61-4e8a-b54f-85230b7bf947"
      },
      "source": [
        "#descrbing data\r\n",
        "df.describe()"
      ],
      "execution_count": 4,
      "outputs": [
        {
          "output_type": "execute_result",
          "data": {
            "text/html": [
              "<div>\n",
              "<style scoped>\n",
              "    .dataframe tbody tr th:only-of-type {\n",
              "        vertical-align: middle;\n",
              "    }\n",
              "\n",
              "    .dataframe tbody tr th {\n",
              "        vertical-align: top;\n",
              "    }\n",
              "\n",
              "    .dataframe thead th {\n",
              "        text-align: right;\n",
              "    }\n",
              "</style>\n",
              "<table border=\"1\" class=\"dataframe\">\n",
              "  <thead>\n",
              "    <tr style=\"text-align: right;\">\n",
              "      <th></th>\n",
              "      <th>MODELYEAR</th>\n",
              "      <th>ENGINESIZE</th>\n",
              "      <th>CYLINDERS</th>\n",
              "      <th>FUELCONSUMPTION_CITY</th>\n",
              "      <th>FUELCONSUMPTION_HWY</th>\n",
              "      <th>FUELCONSUMPTION_COMB</th>\n",
              "      <th>FUELCONSUMPTION_COMB_MPG</th>\n",
              "      <th>CO2EMISSIONS</th>\n",
              "    </tr>\n",
              "  </thead>\n",
              "  <tbody>\n",
              "    <tr>\n",
              "      <th>count</th>\n",
              "      <td>1067.0</td>\n",
              "      <td>1067.000000</td>\n",
              "      <td>1067.000000</td>\n",
              "      <td>1067.000000</td>\n",
              "      <td>1067.000000</td>\n",
              "      <td>1067.000000</td>\n",
              "      <td>1067.000000</td>\n",
              "      <td>1067.000000</td>\n",
              "    </tr>\n",
              "    <tr>\n",
              "      <th>mean</th>\n",
              "      <td>2014.0</td>\n",
              "      <td>3.346298</td>\n",
              "      <td>5.794752</td>\n",
              "      <td>13.296532</td>\n",
              "      <td>9.474602</td>\n",
              "      <td>11.580881</td>\n",
              "      <td>26.441425</td>\n",
              "      <td>256.228679</td>\n",
              "    </tr>\n",
              "    <tr>\n",
              "      <th>std</th>\n",
              "      <td>0.0</td>\n",
              "      <td>1.415895</td>\n",
              "      <td>1.797447</td>\n",
              "      <td>4.101253</td>\n",
              "      <td>2.794510</td>\n",
              "      <td>3.485595</td>\n",
              "      <td>7.468702</td>\n",
              "      <td>63.372304</td>\n",
              "    </tr>\n",
              "    <tr>\n",
              "      <th>min</th>\n",
              "      <td>2014.0</td>\n",
              "      <td>1.000000</td>\n",
              "      <td>3.000000</td>\n",
              "      <td>4.600000</td>\n",
              "      <td>4.900000</td>\n",
              "      <td>4.700000</td>\n",
              "      <td>11.000000</td>\n",
              "      <td>108.000000</td>\n",
              "    </tr>\n",
              "    <tr>\n",
              "      <th>25%</th>\n",
              "      <td>2014.0</td>\n",
              "      <td>2.000000</td>\n",
              "      <td>4.000000</td>\n",
              "      <td>10.250000</td>\n",
              "      <td>7.500000</td>\n",
              "      <td>9.000000</td>\n",
              "      <td>21.000000</td>\n",
              "      <td>207.000000</td>\n",
              "    </tr>\n",
              "    <tr>\n",
              "      <th>50%</th>\n",
              "      <td>2014.0</td>\n",
              "      <td>3.400000</td>\n",
              "      <td>6.000000</td>\n",
              "      <td>12.600000</td>\n",
              "      <td>8.800000</td>\n",
              "      <td>10.900000</td>\n",
              "      <td>26.000000</td>\n",
              "      <td>251.000000</td>\n",
              "    </tr>\n",
              "    <tr>\n",
              "      <th>75%</th>\n",
              "      <td>2014.0</td>\n",
              "      <td>4.300000</td>\n",
              "      <td>8.000000</td>\n",
              "      <td>15.550000</td>\n",
              "      <td>10.850000</td>\n",
              "      <td>13.350000</td>\n",
              "      <td>31.000000</td>\n",
              "      <td>294.000000</td>\n",
              "    </tr>\n",
              "    <tr>\n",
              "      <th>max</th>\n",
              "      <td>2014.0</td>\n",
              "      <td>8.400000</td>\n",
              "      <td>12.000000</td>\n",
              "      <td>30.200000</td>\n",
              "      <td>20.500000</td>\n",
              "      <td>25.800000</td>\n",
              "      <td>60.000000</td>\n",
              "      <td>488.000000</td>\n",
              "    </tr>\n",
              "  </tbody>\n",
              "</table>\n",
              "</div>"
            ],
            "text/plain": [
              "       MODELYEAR   ENGINESIZE  ...  FUELCONSUMPTION_COMB_MPG  CO2EMISSIONS\n",
              "count     1067.0  1067.000000  ...               1067.000000   1067.000000\n",
              "mean      2014.0     3.346298  ...                 26.441425    256.228679\n",
              "std          0.0     1.415895  ...                  7.468702     63.372304\n",
              "min       2014.0     1.000000  ...                 11.000000    108.000000\n",
              "25%       2014.0     2.000000  ...                 21.000000    207.000000\n",
              "50%       2014.0     3.400000  ...                 26.000000    251.000000\n",
              "75%       2014.0     4.300000  ...                 31.000000    294.000000\n",
              "max       2014.0     8.400000  ...                 60.000000    488.000000\n",
              "\n",
              "[8 rows x 8 columns]"
            ]
          },
          "metadata": {
            "tags": []
          },
          "execution_count": 4
        }
      ]
    },
    {
      "cell_type": "code",
      "metadata": {
        "colab": {
          "base_uri": "https://localhost:8080/",
          "height": 195
        },
        "id": "0PIyuDgtOfW_",
        "outputId": "d3865dda-b935-48e0-9c9f-ba4162e4dae7"
      },
      "source": [
        "#here now we are not using all the parameters for first time but using some of them for prediction\r\n",
        "ds=df[['ENGINESIZE','CYLINDERS','FUELCONSUMPTION_COMB','CO2EMISSIONS']]\r\n",
        "ds.head()"
      ],
      "execution_count": 5,
      "outputs": [
        {
          "output_type": "execute_result",
          "data": {
            "text/html": [
              "<div>\n",
              "<style scoped>\n",
              "    .dataframe tbody tr th:only-of-type {\n",
              "        vertical-align: middle;\n",
              "    }\n",
              "\n",
              "    .dataframe tbody tr th {\n",
              "        vertical-align: top;\n",
              "    }\n",
              "\n",
              "    .dataframe thead th {\n",
              "        text-align: right;\n",
              "    }\n",
              "</style>\n",
              "<table border=\"1\" class=\"dataframe\">\n",
              "  <thead>\n",
              "    <tr style=\"text-align: right;\">\n",
              "      <th></th>\n",
              "      <th>ENGINESIZE</th>\n",
              "      <th>CYLINDERS</th>\n",
              "      <th>FUELCONSUMPTION_COMB</th>\n",
              "      <th>CO2EMISSIONS</th>\n",
              "    </tr>\n",
              "  </thead>\n",
              "  <tbody>\n",
              "    <tr>\n",
              "      <th>0</th>\n",
              "      <td>2.0</td>\n",
              "      <td>4</td>\n",
              "      <td>8.5</td>\n",
              "      <td>196</td>\n",
              "    </tr>\n",
              "    <tr>\n",
              "      <th>1</th>\n",
              "      <td>2.4</td>\n",
              "      <td>4</td>\n",
              "      <td>9.6</td>\n",
              "      <td>221</td>\n",
              "    </tr>\n",
              "    <tr>\n",
              "      <th>2</th>\n",
              "      <td>1.5</td>\n",
              "      <td>4</td>\n",
              "      <td>5.9</td>\n",
              "      <td>136</td>\n",
              "    </tr>\n",
              "    <tr>\n",
              "      <th>3</th>\n",
              "      <td>3.5</td>\n",
              "      <td>6</td>\n",
              "      <td>11.1</td>\n",
              "      <td>255</td>\n",
              "    </tr>\n",
              "    <tr>\n",
              "      <th>4</th>\n",
              "      <td>3.5</td>\n",
              "      <td>6</td>\n",
              "      <td>10.6</td>\n",
              "      <td>244</td>\n",
              "    </tr>\n",
              "  </tbody>\n",
              "</table>\n",
              "</div>"
            ],
            "text/plain": [
              "   ENGINESIZE  CYLINDERS  FUELCONSUMPTION_COMB  CO2EMISSIONS\n",
              "0         2.0          4                   8.5           196\n",
              "1         2.4          4                   9.6           221\n",
              "2         1.5          4                   5.9           136\n",
              "3         3.5          6                  11.1           255\n",
              "4         3.5          6                  10.6           244"
            ]
          },
          "metadata": {
            "tags": []
          },
          "execution_count": 5
        }
      ]
    },
    {
      "cell_type": "markdown",
      "metadata": {
        "id": "Lt8FPzvXPKPe"
      },
      "source": [
        "Here the co2emission is dependent variable while others are indepent variavble \r\n",
        "SO the equation of single simple linear regression\r\n",
        " ŷ =  θ0 +  θ1X1;\r\n",
        " where ŷ= Independent variable, \r\n",
        " x1=independent variable, \r\n",
        " θ0,θ1 are parameters .\r\n",
        " so above model this equation is :- \r\n",
        " CO2EMISSIONS = θ0 + θ1 X ENGINESIZE"
      ]
    },
    {
      "cell_type": "code",
      "metadata": {
        "colab": {
          "base_uri": "https://localhost:8080/",
          "height": 281
        },
        "id": "egwyMcICPI7G",
        "outputId": "aaefdbd1-372b-4319-ab0b-1280b13ad3ce"
      },
      "source": [
        "#NOW ploat all the parameters\r\n",
        "viz = ds[['ENGINESIZE','CYLINDERS','FUELCONSUMPTION_COMB','CO2EMISSIONS']]\r\n",
        "viz.hist()\r\n",
        "plt.show()"
      ],
      "execution_count": 6,
      "outputs": [
        {
          "output_type": "display_data",
          "data": {
            "image/png": "[encoded data removed]",
            "text/plain": [
              "<Figure size 432x288 with 4 Axes>"
            ]
          },
          "metadata": {
            "tags": [],
            "needs_background": "light"
          }
        }
      ]
    },
    {
      "cell_type": "code",
      "metadata": {
        "colab": {
          "base_uri": "https://localhost:8080/",
          "height": 280
        },
        "id": "YtRJw3rfQ1p4",
        "outputId": "07ae6516-32b4-4433-dcef-cbc7e98b1655"
      },
      "source": [
        "#now we plot one feature vs EMission in scatterplot\r\n",
        "plt.scatter(ds.FUELCONSUMPTION_COMB,ds.CO2EMISSIONS,color='blue')\r\n",
        "plt.xlabel(\"FULECONSUMPTION\")\r\n",
        "plt.ylabel(\"CO2EMISSION\")\r\n",
        "plt.show()"
      ],
      "execution_count": 7,
      "outputs": [
        {
          "output_type": "display_data",
          "data": {
            "image/png": "[encoded data removed]",
            "text/plain": [
              "<Figure size 432x288 with 1 Axes>"
            ]
          },
          "metadata": {
            "tags": [],
            "needs_background": "light"
          }
        }
      ]
    },
    {
      "cell_type": "code",
      "metadata": {
        "colab": {
          "base_uri": "https://localhost:8080/",
          "height": 280
        },
        "id": "UsAsEvsaRTTx",
        "outputId": "76abad9e-b905-46b3-f5a8-90afba8f5ebf"
      },
      "source": [
        "#now create scatterploat for antor featurs \r\n",
        "plt.scatter(ds.ENGINESIZE, ds.CO2EMISSIONS,  color='red')\r\n",
        "plt.xlabel(\"Engine size\")\r\n",
        "plt.ylabel(\"Emission\")\r\n",
        "plt.show()"
      ],
      "execution_count": 8,
      "outputs": [
        {
          "output_type": "display_data",
          "data": {
            "image/png": "[encoded data removed]",
            "text/plain": [
              "<Figure size 432x288 with 1 Axes>"
            ]
          },
          "metadata": {
            "tags": [],
            "needs_background": "light"
          }
        }
      ]
    },
    {
      "cell_type": "code",
      "metadata": {
        "id": "4vQ7Nzd9mQ0u"
      },
      "source": [
        ""
      ],
      "execution_count": null,
      "outputs": []
    },
    {
      "cell_type": "code",
      "metadata": {
        "colab": {
          "base_uri": "https://localhost:8080/",
          "height": 295
        },
        "id": "Tui4oNnbRsG_",
        "outputId": "37b32430-6eee-4950-a53a-598e8909469c"
      },
      "source": [
        "plt.scatter(ds.CYLINDERS,ds.CO2EMISSIONS,color='green')\r\n",
        "plt.title('CYLINDER vs the Emission')\r\n",
        "plt.xlabel('CYLINDER')\r\n",
        "plt.ylabel('Emission')\r\n",
        "plt.show()"
      ],
      "execution_count": 9,
      "outputs": [
        {
          "output_type": "display_data",
          "data": {
            "image/png": "[encoded data removed]",
            "text/plain": [
              "<Figure size 432x288 with 1 Axes>"
            ]
          },
          "metadata": {
            "tags": [],
            "needs_background": "light"
          }
        }
      ]
    },
    {
      "cell_type": "markdown",
      "metadata": {
        "id": "PEpEo5bOSZjI"
      },
      "source": [
        ""
      ]
    },
    {
      "cell_type": "markdown",
      "metadata": {
        "id": "BoH8RBPlSUyg"
      },
      "source": [
        "<b>now the main part comes model creation and its training </b> \r\n"
      ]
    },
    {
      "cell_type": "markdown",
      "metadata": {
        "id": "rGkGEpNhSaMw"
      },
      "source": [
        "<h3> the training and testing is important because it incresace the accuracy of model </h3>"
      ]
    },
    {
      "cell_type": "code",
      "metadata": {
        "id": "GawTLeHCR1hD"
      },
      "source": [
        "#now splitting data in trainig and testing part\r\n",
        "msk = np.random.rand(len(ds)) <0.8 #here  we are takinging any random amount which is less than 80% of total dataset\r\n",
        "train_ds = ds[msk]\r\n",
        "test_ds = ds[~msk]"
      ],
      "execution_count": 10,
      "outputs": []
    },
    {
      "cell_type": "code",
      "metadata": {
        "colab": {
          "base_uri": "https://localhost:8080/",
          "height": 280
        },
        "id": "TRm-9itbS_aO",
        "outputId": "59a3bc7d-0eb5-4961-8986-8636402c7963"
      },
      "source": [
        "#here we are ploting training dataset\r\n",
        "plt.scatter(train_ds.ENGINESIZE, train_ds.CO2EMISSIONS,  color='blue')\r\n",
        "plt.xlabel(\"Engine size\")\r\n",
        "plt.ylabel(\"Emission\")\r\n",
        "plt.show()"
      ],
      "execution_count": 11,
      "outputs": [
        {
          "output_type": "display_data",
          "data": {
            "image/png": "[encoded data removed]",
            "text/plain": [
              "<Figure size 432x288 with 1 Axes>"
            ]
          },
          "metadata": {
            "tags": [],
            "needs_background": "light"
          }
        }
      ]
    },
    {
      "cell_type": "code",
      "metadata": {
        "colab": {
          "base_uri": "https://localhost:8080/",
          "height": 283
        },
        "id": "iv_EiJpMTLhu",
        "outputId": "efe76efe-449b-4ccc-eb89-00ffc734e2fe"
      },
      "source": [
        "#here we are ploating testing dataset\r\n",
        "plt.scatter(test_ds.ENGINESIZE, test_ds.CO2EMISSIONS,  color='red')\r\n",
        "plt.xlabel(\"Engine size\")\r\n",
        "plt.ylabel(\"Emission\")\r\n",
        "plt.show()"
      ],
      "execution_count": 12,
      "outputs": [
        {
          "output_type": "display_data",
          "data": {
            "image/png": "[encoded data removed]",
            "text/plain": [
              "<Figure size 432x288 with 1 Axes>"
            ]
          },
          "metadata": {
            "tags": [],
            "needs_background": "light"
          }
        }
      ]
    },
    {
      "cell_type": "code",
      "metadata": {
        "id": "F5wSpkrjTZ4p"
      },
      "source": [
        "from sklearn import linear_model\r\n",
        "#here we are creating linear_model using sklearin "
      ],
      "execution_count": 44,
      "outputs": []
    },
    {
      "cell_type": "code",
      "metadata": {
        "id": "UilIOX2TTeEJ"
      },
      "source": [
        "model = linear_model.LinearRegression()\r\n",
        "train_x = np.asanyarray(train_ds[['ENGINESIZE']])\r\n",
        "train_y = np.asanyarray(train_ds[['CO2EMISSIONS']])\r\n",
        "#here we created body of regression model \r\n",
        "#here we trained x and y in form of any dimenssion array "
      ],
      "execution_count": 45,
      "outputs": []
    },
    {
      "cell_type": "code",
      "metadata": {
        "colab": {
          "base_uri": "https://localhost:8080/"
        },
        "id": "JoqpVj9TbnnY",
        "outputId": "7b6ae7dc-6917-4d26-d332-d1533a1d0cad"
      },
      "source": [
        "model.fit(train_x,train_y)\r\n",
        "#here we fit the training data in model"
      ],
      "execution_count": 46,
      "outputs": [
        {
          "output_type": "execute_result",
          "data": {
            "text/plain": [
              "LinearRegression(copy_X=True, fit_intercept=True, n_jobs=None, normalize=False)"
            ]
          },
          "metadata": {
            "tags": []
          },
          "execution_count": 46
        }
      ]
    },
    {
      "cell_type": "code",
      "metadata": {
        "colab": {
          "base_uri": "https://localhost:8080/"
        },
        "id": "IuOTUVfmdQA2",
        "outputId": "ec0ed1a7-5381-422f-8303-e07749d1f291"
      },
      "source": [
        "#the coefficents \r\n",
        "print ('Coefficients: ', model.coef_)\r\n",
        "print ('Intercept: ',model.intercept_)\r\n"
      ],
      "execution_count": 47,
      "outputs": [
        {
          "output_type": "stream",
          "text": [
            "Coefficients:  [[38.57918942]]\n",
            "Intercept:  [126.51687607]\n"
          ],
          "name": "stdout"
        }
      ]
    },
    {
      "cell_type": "code",
      "metadata": {
        "colab": {
          "base_uri": "https://localhost:8080/",
          "height": 297
        },
        "id": "uzCOkTVDeVnc",
        "outputId": "def39c68-d42d-49d0-a83b-ded5d1d443a3"
      },
      "source": [
        "#here now we plot the line \r\n",
        "plt.scatter(train_ds.ENGINESIZE, train_ds.CO2EMISSIONS,  color='blue')\r\n",
        "plt.plot(train_x, model.coef_[0][0]*train_x + model.intercept_[0], '-r')\r\n",
        "plt.xlabel(\"Engine size\")\r\n",
        "plt.ylabel(\"Emission\")\r\n",
        "#here we fitted fit line in scatterplot diagrame\r\n",
        "#here θ0 is intercept and θ1 is coefficient of model \r\n"
      ],
      "execution_count": 48,
      "outputs": [
        {
          "output_type": "execute_result",
          "data": {
            "text/plain": [
              "Text(0, 0.5, 'Emission')"
            ]
          },
          "metadata": {
            "tags": []
          },
          "execution_count": 48
        },
        {
          "output_type": "display_data",
          "data": {
            "image/png": "[encoded data removed]",
            "text/plain": [
              "<Figure size 432x288 with 1 Axes>"
            ]
          },
          "metadata": {
            "tags": [],
            "needs_background": "light"
          }
        }
      ]
    },
    {
      "cell_type": "code",
      "metadata": {
        "id": "NhEiTO0gmMpe"
      },
      "source": [
        "#here the model evlaution begins \r\n",
        "#we compare the actual values and predicted values to calculate the accuracy of a regression model. Evaluation metrics provide a key role in the development of a model, as it provides insight to areas that require improvement.\r\n",
        "#There are different model evaluation metrics, lets use MSE here to calculate the accuracy of our model based on the test set: \r\n",
        "#here some important terms for evaluations is as below\r\n",
        "# 1. Mean absolute error :- it is mean of all absolute values of the errors \r\n",
        "# 2. Mean squared error :- it is squre of all mean values of error \r\n",
        "# 3 . root mean squared error :- it is square root of mean squared error \r\n",
        "\"\"\"4 .R2/R-Squared score :- R-squared is not error, but is a popular metric for accuracy of your model. \r\n",
        "It represents how close the data are to the fitted regression line. \r\n",
        "The higher the R-squared, the better the model fits your data. Best possible score is 1.0 and it can be negative (because the model can be arbitrarily worse)."
      ],
      "execution_count": null,
      "outputs": []
    },
    {
      "cell_type": "code",
      "metadata": {
        "id": "vWsHk8wLhOfy"
      },
      "source": [
        "from sklearn.metrics import r2_score\r\n"
      ],
      "execution_count": 49,
      "outputs": []
    },
    {
      "cell_type": "code",
      "metadata": {
        "colab": {
          "base_uri": "https://localhost:8080/"
        },
        "id": "5rRoajalhTEt",
        "outputId": "9889ff97-26f5-4f80-eb7f-77ce41316297"
      },
      "source": [
        "test_x = np.asanyarray(test_ds[['ENGINESIZE']])\r\n",
        "test_y = np.asanyarray(test_ds[['CO2EMISSIONS']])\r\n",
        "#print(train_x.shape)\r\n",
        "#print(train_y.shape)\r\n",
        "test_y_hat = model.predict(test_x)\r\n",
        "print(\"Mean absolute error : %.2f\" %np.mean(np.absolute(test_y_hat-test_y)))\r\n",
        "print(\"Mean squared error : %.2f\" %np.mean((test_y_hat-test_y)**2))\r\n",
        "print(\"R-2 score : %.2f\" %r2_score(test_y_hat,test_y))"
      ],
      "execution_count": 51,
      "outputs": [
        {
          "output_type": "stream",
          "text": [
            "(855, 1)\n",
            "(855, 1)\n",
            "Mean absolute error : 23.59\n",
            "Mean squared error : 1049.81\n",
            "R-2 score : 0.63\n"
          ],
          "name": "stdout"
        }
      ]
    },
    {
      "cell_type": "code",
      "metadata": {
        "colab": {
          "base_uri": "https://localhost:8080/",
          "height": 195
        },
        "id": "Z3HGxja1mSCi",
        "outputId": "98538358-715e-48f0-a3ce-5a8fbaa93a23"
      },
      "source": [
        "#here we are doing some random experiments like chossing diffrent Independent variables to predict depandent variable \r\n",
        "ds.head()"
      ],
      "execution_count": 54,
      "outputs": [
        {
          "output_type": "execute_result",
          "data": {
            "text/html": [
              "<div>\n",
              "<style scoped>\n",
              "    .dataframe tbody tr th:only-of-type {\n",
              "        vertical-align: middle;\n",
              "    }\n",
              "\n",
              "    .dataframe tbody tr th {\n",
              "        vertical-align: top;\n",
              "    }\n",
              "\n",
              "    .dataframe thead th {\n",
              "        text-align: right;\n",
              "    }\n",
              "</style>\n",
              "<table border=\"1\" class=\"dataframe\">\n",
              "  <thead>\n",
              "    <tr style=\"text-align: right;\">\n",
              "      <th></th>\n",
              "      <th>ENGINESIZE</th>\n",
              "      <th>CYLINDERS</th>\n",
              "      <th>FUELCONSUMPTION_COMB</th>\n",
              "      <th>CO2EMISSIONS</th>\n",
              "    </tr>\n",
              "  </thead>\n",
              "  <tbody>\n",
              "    <tr>\n",
              "      <th>0</th>\n",
              "      <td>2.0</td>\n",
              "      <td>4</td>\n",
              "      <td>8.5</td>\n",
              "      <td>196</td>\n",
              "    </tr>\n",
              "    <tr>\n",
              "      <th>1</th>\n",
              "      <td>2.4</td>\n",
              "      <td>4</td>\n",
              "      <td>9.6</td>\n",
              "      <td>221</td>\n",
              "    </tr>\n",
              "    <tr>\n",
              "      <th>2</th>\n",
              "      <td>1.5</td>\n",
              "      <td>4</td>\n",
              "      <td>5.9</td>\n",
              "      <td>136</td>\n",
              "    </tr>\n",
              "    <tr>\n",
              "      <th>3</th>\n",
              "      <td>3.5</td>\n",
              "      <td>6</td>\n",
              "      <td>11.1</td>\n",
              "      <td>255</td>\n",
              "    </tr>\n",
              "    <tr>\n",
              "      <th>4</th>\n",
              "      <td>3.5</td>\n",
              "      <td>6</td>\n",
              "      <td>10.6</td>\n",
              "      <td>244</td>\n",
              "    </tr>\n",
              "  </tbody>\n",
              "</table>\n",
              "</div>"
            ],
            "text/plain": [
              "   ENGINESIZE  CYLINDERS  FUELCONSUMPTION_COMB  CO2EMISSIONS\n",
              "0         2.0          4                   8.5           196\n",
              "1         2.4          4                   9.6           221\n",
              "2         1.5          4                   5.9           136\n",
              "3         3.5          6                  11.1           255\n",
              "4         3.5          6                  10.6           244"
            ]
          },
          "metadata": {
            "tags": []
          },
          "execution_count": 54
        }
      ]
    },
    {
      "cell_type": "markdown",
      "metadata": {
        "id": "xz4xmRWVusvZ"
      },
      "source": [
        "<h3> here we take anthor variable CYLINDERS for predictions </h3>"
      ]
    },
    {
      "cell_type": "code",
      "metadata": {
        "id": "VW3NKiv6nmxb"
      },
      "source": [
        "#here we take CYlinders as Independtent variable\r\n",
        "model_cy = linear_model.LinearRegression()\r\n",
        "train_x_cy = np.asanyarray(train_ds[['CYLINDERS']])\r\n",
        "train_y_cy = np.asanyarray(train_ds[['CO2EMISSIONS']])\r\n"
      ],
      "execution_count": 61,
      "outputs": []
    },
    {
      "cell_type": "code",
      "metadata": {
        "colab": {
          "base_uri": "https://localhost:8080/",
          "height": 280
        },
        "id": "NT2Qix8rpPAU",
        "outputId": "3a9a4c03-26c7-4e86-8d15-8e2b1c68ebb3"
      },
      "source": [
        "#here we are ploting training dataset\r\n",
        "plt.scatter(train_ds.CYLINDERS, train_ds.CO2EMISSIONS,  color='blue')\r\n",
        "plt.xlabel(\"Engine size\")\r\n",
        "plt.ylabel(\"Emission\")\r\n",
        "plt.show()"
      ],
      "execution_count": 57,
      "outputs": [
        {
          "output_type": "display_data",
          "data": {
            "image/png": "[encoded data removed]",
            "text/plain": [
              "<Figure size 432x288 with 1 Axes>"
            ]
          },
          "metadata": {
            "tags": [],
            "needs_background": "light"
          }
        }
      ]
    },
    {
      "cell_type": "code",
      "metadata": {
        "colab": {
          "base_uri": "https://localhost:8080/",
          "height": 283
        },
        "id": "HJHGNyqYpYC3",
        "outputId": "d469d55a-e8d5-423c-abf1-f3b657450a5f"
      },
      "source": [
        "#here we are ploting training dataset\r\n",
        "plt.scatter(test_ds.CYLINDERS, test_ds.CO2EMISSIONS,  color='red')\r\n",
        "plt.xlabel(\"Engine size\")\r\n",
        "plt.ylabel(\"Emission\")\r\n",
        "plt.show()"
      ],
      "execution_count": 59,
      "outputs": [
        {
          "output_type": "display_data",
          "data": {
            "image/png": "[encoded data removed]",
            "text/plain": [
              "<Figure size 432x288 with 1 Axes>"
            ]
          },
          "metadata": {
            "tags": [],
            "needs_background": "light"
          }
        }
      ]
    },
    {
      "cell_type": "code",
      "metadata": {
        "colab": {
          "base_uri": "https://localhost:8080/"
        },
        "id": "rg0QUBgfpmk0",
        "outputId": "0aabdde7-8923-4fd6-fec2-e3aea3e8afe2"
      },
      "source": [
        "model_cy.fit(train_x_cy,train_y_cy)\r\n",
        "#here we fit the training data in model"
      ],
      "execution_count": 62,
      "outputs": [
        {
          "output_type": "execute_result",
          "data": {
            "text/plain": [
              "LinearRegression(copy_X=True, fit_intercept=True, n_jobs=None, normalize=False)"
            ]
          },
          "metadata": {
            "tags": []
          },
          "execution_count": 62
        }
      ]
    },
    {
      "cell_type": "code",
      "metadata": {
        "colab": {
          "base_uri": "https://localhost:8080/"
        },
        "id": "P-MYGHJspwID",
        "outputId": "f9b5ffd5-c8d2-4f94-a990-6912d152cf2f"
      },
      "source": [
        "print ('Coefficients: ', model_cy.coef_)\r\n",
        "print ('Intercept: ',model_cy.intercept_)"
      ],
      "execution_count": 63,
      "outputs": [
        {
          "output_type": "stream",
          "text": [
            "Coefficients:  [[30.13131936]]\n",
            "Intercept:  [81.3853498]\n"
          ],
          "name": "stdout"
        }
      ]
    },
    {
      "cell_type": "code",
      "metadata": {
        "colab": {
          "base_uri": "https://localhost:8080/",
          "height": 297
        },
        "id": "cbj9mYrdqdCO",
        "outputId": "57bae1ee-2856-441f-da37-2c323ea9697a"
      },
      "source": [
        "#here now plot this XD\r\n",
        "plt.scatter(train_ds.CYLINDERS, train_ds.CO2EMISSIONS,  color='blue')\r\n",
        "plt.plot(train_x_cy, model_cy.coef_[0][0]*train_x + model_cy.intercept_[0], '-r')\r\n",
        "plt.xlabel(\"CYLINDERS\")\r\n",
        "plt.ylabel(\"Emission\")"
      ],
      "execution_count": 65,
      "outputs": [
        {
          "output_type": "execute_result",
          "data": {
            "text/plain": [
              "Text(0, 0.5, 'Emission')"
            ]
          },
          "metadata": {
            "tags": []
          },
          "execution_count": 65
        },
        {
          "output_type": "display_data",
          "data": {
            "image/png": "[encoded data removed]",
            "text/plain": [
              "<Figure size 432x288 with 1 Axes>"
            ]
          },
          "metadata": {
            "tags": [],
            "needs_background": "light"
          }
        }
      ]
    },
    {
      "cell_type": "code",
      "metadata": {
        "colab": {
          "base_uri": "https://localhost:8080/"
        },
        "id": "w8l49gVArMHY",
        "outputId": "77df0eaa-0043-43fd-bb9c-aed89f105e73"
      },
      "source": [
        "#here we can see that fitting line is now like upper models so the this variable is not used in prediction of Co2 emission\r\n",
        "#still we do like upper models just for fun\r\n",
        "test_x_cy = np.asanyarray(test_ds[['CYLINDERS']])\r\n",
        "test_y_cy = np.asanyarray(test_ds[['CO2EMISSIONS']])\r\n",
        "test_y_cy_hat = model_cy.predict(test_x_cy)\r\n",
        "\r\n",
        "print(\"Mean absolute error: %.2f\" % np.mean(np.absolute(test_y_cy_hat - test_y_cy)))\r\n",
        "print(\"Residual sum of squares (MSE): %.2f\" % np.mean((test_y_cy_hat - test_y_cy) ** 2))\r\n",
        "print(\"R2-score: %.2f\" % r2_score(test_y_cy_hat , test_y_cy) )"
      ],
      "execution_count": 68,
      "outputs": [
        {
          "output_type": "stream",
          "text": [
            "Mean absolute error: 27.26\n",
            "Residual sum of squares (MSE): 1289.22\n",
            "R2-score: 0.59\n"
          ],
          "name": "stdout"
        }
      ]
    },
    {
      "cell_type": "code",
      "metadata": {
        "colab": {
          "base_uri": "https://localhost:8080/",
          "height": 195
        },
        "id": "xS4LT8-brz36",
        "outputId": "bc8600b3-9a0e-45ec-d23a-f015478f20bf"
      },
      "source": [
        "#here we will take anthor one variabble \r\n",
        "ds.head()"
      ],
      "execution_count": 70,
      "outputs": [
        {
          "output_type": "execute_result",
          "data": {
            "text/html": [
              "<div>\n",
              "<style scoped>\n",
              "    .dataframe tbody tr th:only-of-type {\n",
              "        vertical-align: middle;\n",
              "    }\n",
              "\n",
              "    .dataframe tbody tr th {\n",
              "        vertical-align: top;\n",
              "    }\n",
              "\n",
              "    .dataframe thead th {\n",
              "        text-align: right;\n",
              "    }\n",
              "</style>\n",
              "<table border=\"1\" class=\"dataframe\">\n",
              "  <thead>\n",
              "    <tr style=\"text-align: right;\">\n",
              "      <th></th>\n",
              "      <th>ENGINESIZE</th>\n",
              "      <th>CYLINDERS</th>\n",
              "      <th>FUELCONSUMPTION_COMB</th>\n",
              "      <th>CO2EMISSIONS</th>\n",
              "    </tr>\n",
              "  </thead>\n",
              "  <tbody>\n",
              "    <tr>\n",
              "      <th>0</th>\n",
              "      <td>2.0</td>\n",
              "      <td>4</td>\n",
              "      <td>8.5</td>\n",
              "      <td>196</td>\n",
              "    </tr>\n",
              "    <tr>\n",
              "      <th>1</th>\n",
              "      <td>2.4</td>\n",
              "      <td>4</td>\n",
              "      <td>9.6</td>\n",
              "      <td>221</td>\n",
              "    </tr>\n",
              "    <tr>\n",
              "      <th>2</th>\n",
              "      <td>1.5</td>\n",
              "      <td>4</td>\n",
              "      <td>5.9</td>\n",
              "      <td>136</td>\n",
              "    </tr>\n",
              "    <tr>\n",
              "      <th>3</th>\n",
              "      <td>3.5</td>\n",
              "      <td>6</td>\n",
              "      <td>11.1</td>\n",
              "      <td>255</td>\n",
              "    </tr>\n",
              "    <tr>\n",
              "      <th>4</th>\n",
              "      <td>3.5</td>\n",
              "      <td>6</td>\n",
              "      <td>10.6</td>\n",
              "      <td>244</td>\n",
              "    </tr>\n",
              "  </tbody>\n",
              "</table>\n",
              "</div>"
            ],
            "text/plain": [
              "   ENGINESIZE  CYLINDERS  FUELCONSUMPTION_COMB  CO2EMISSIONS\n",
              "0         2.0          4                   8.5           196\n",
              "1         2.4          4                   9.6           221\n",
              "2         1.5          4                   5.9           136\n",
              "3         3.5          6                  11.1           255\n",
              "4         3.5          6                  10.6           244"
            ]
          },
          "metadata": {
            "tags": []
          },
          "execution_count": 70
        }
      ]
    },
    {
      "cell_type": "markdown",
      "metadata": {
        "id": "3DEEK7tFu3TK"
      },
      "source": [
        "<h3> Here we are taking Fuel consumation for prediction  </h3>"
      ]
    },
    {
      "cell_type": "code",
      "metadata": {
        "id": "wMyV2ddNr9Pm"
      },
      "source": [
        "#here we take fuel consumation coefficent \r\n",
        "#here we take CYlinders as Independtent variable\r\n",
        "model_co = linear_model.LinearRegression()\r\n",
        "train_x_co = np.asanyarray(train_ds[['FUELCONSUMPTION_COMB']])\r\n",
        "train_y_co = np.asanyarray(train_ds[['CO2EMISSIONS']])\r\n"
      ],
      "execution_count": 71,
      "outputs": []
    },
    {
      "cell_type": "code",
      "metadata": {
        "colab": {
          "base_uri": "https://localhost:8080/",
          "height": 281
        },
        "id": "vCIdRKxStB58",
        "outputId": "f5ffaa16-dfde-459e-f23c-c22f36239275"
      },
      "source": [
        "#here we are ploting training dataset\r\n",
        "plt.scatter(train_ds.FUELCONSUMPTION_COMB, train_ds.CO2EMISSIONS,  color='blue')\r\n",
        "plt.xlabel(\"FUEL_COMB\")\r\n",
        "plt.ylabel(\"Emission\")\r\n",
        "plt.show()"
      ],
      "execution_count": 72,
      "outputs": [
        {
          "output_type": "display_data",
          "data": {
            "image/png": "[encoded data removed]",
            "text/plain": [
              "<Figure size 432x288 with 1 Axes>"
            ]
          },
          "metadata": {
            "tags": [],
            "needs_background": "light"
          }
        }
      ]
    },
    {
      "cell_type": "code",
      "metadata": {
        "colab": {
          "base_uri": "https://localhost:8080/",
          "height": 284
        },
        "id": "8PRLn_mjtLD2",
        "outputId": "f3c6a184-5ec2-4b0d-c921-83cf5a51338a"
      },
      "source": [
        "#here we are ploting training dataset\r\n",
        "plt.scatter(test_ds.FUELCONSUMPTION_COMB, test_ds.CO2EMISSIONS,  color='red')\r\n",
        "plt.xlabel(\"FUEL_COMB\")\r\n",
        "plt.ylabel(\"Emission\")\r\n",
        "plt.show()"
      ],
      "execution_count": 73,
      "outputs": [
        {
          "output_type": "display_data",
          "data": {
            "image/png": "[encoded data removed]",
            "text/plain": [
              "<Figure size 432x288 with 1 Axes>"
            ]
          },
          "metadata": {
            "tags": [],
            "needs_background": "light"
          }
        }
      ]
    },
    {
      "cell_type": "code",
      "metadata": {
        "colab": {
          "base_uri": "https://localhost:8080/"
        },
        "id": "-_fJZLqGtVu2",
        "outputId": "591dbba5-ef3a-43cc-e379-e17afaf19f3b"
      },
      "source": [
        "model_co.fit(train_x_co,train_y_co)\r\n",
        "#here we fit the training data in model"
      ],
      "execution_count": 74,
      "outputs": [
        {
          "output_type": "execute_result",
          "data": {
            "text/plain": [
              "LinearRegression(copy_X=True, fit_intercept=True, n_jobs=None, normalize=False)"
            ]
          },
          "metadata": {
            "tags": []
          },
          "execution_count": 74
        }
      ]
    },
    {
      "cell_type": "code",
      "metadata": {
        "colab": {
          "base_uri": "https://localhost:8080/"
        },
        "id": "__qnX3PktdFm",
        "outputId": "eec1ff00-6f5b-49ab-8544-d3051157c263"
      },
      "source": [
        "print ('Coefficients: ', model_co.coef_)\r\n",
        "print ('Intercept: ',model_co.intercept_)"
      ],
      "execution_count": 75,
      "outputs": [
        {
          "output_type": "stream",
          "text": [
            "Coefficients:  [[15.89234454]]\n",
            "Intercept:  [71.92888561]\n"
          ],
          "name": "stdout"
        }
      ]
    },
    {
      "cell_type": "code",
      "metadata": {
        "colab": {
          "base_uri": "https://localhost:8080/",
          "height": 298
        },
        "id": "ZtWB3exztkQH",
        "outputId": "6cf6ccec-0c52-451d-8763-808e2ae97fa7"
      },
      "source": [
        "#here now plot this :)\r\n",
        "plt.scatter(train_ds.FUELCONSUMPTION_COMB, train_ds.CO2EMISSIONS,  color='blue')\r\n",
        "plt.plot(train_x_co, model_co.coef_[0][0]*train_x_co + model_co.intercept_[0], '-r')\r\n",
        "plt.xlabel(\"FUEL_CO\")\r\n",
        "plt.ylabel(\"Emission\")"
      ],
      "execution_count": 76,
      "outputs": [
        {
          "output_type": "execute_result",
          "data": {
            "text/plain": [
              "Text(0, 0.5, 'Emission')"
            ]
          },
          "metadata": {
            "tags": []
          },
          "execution_count": 76
        },
        {
          "output_type": "display_data",
          "data": {
            "image/png": "[encoded data removed]",
            "text/plain": [
              "<Figure size 432x288 with 1 Axes>"
            ]
          },
          "metadata": {
            "tags": [],
            "needs_background": "light"
          }
        }
      ]
    },
    {
      "cell_type": "code",
      "metadata": {
        "colab": {
          "base_uri": "https://localhost:8080/"
        },
        "id": "kt-8BEeKt1n8",
        "outputId": "897ce2f9-cedc-4695-be77-698ba2171342"
      },
      "source": [
        "\r\n",
        "test_x_co = np.asanyarray(test_ds[['CYLINDERS']])\r\n",
        "test_y_co = np.asanyarray(test_ds[['CO2EMISSIONS']])\r\n",
        "test_y_co_hat = model_co.predict(test_x_co)\r\n",
        "\r\n",
        "print(\"Mean absolute error: %.2f\" % np.mean(np.absolute(test_y_co_hat - test_y_co)))\r\n",
        "print(\"Residual sum of squares (MSE): %.2f\" % np.mean((test_y_co_hat - test_y_co) ** 2))\r\n",
        "print(\"R2-score: %.2f\" % r2_score(test_y_co_hat , test_y_co) )"
      ],
      "execution_count": 78,
      "outputs": [
        {
          "output_type": "stream",
          "text": [
            "Mean absolute error: 92.29\n",
            "Residual sum of squares (MSE): 10418.55\n",
            "R2-score: -10.82\n"
          ],
          "name": "stdout"
        }
      ]
    },
    {
      "cell_type": "markdown",
      "metadata": {
        "id": "6LE6fwm5uQDl"
      },
      "source": [
        "Here as we can see the R2 scores is negative that menas he model  is arbitrarily worse"
      ]
    },
    {
      "cell_type": "markdown",
      "metadata": {
        "id": "MyKQxm6Zua8e"
      },
      "source": [
        "<h3> so from that experiments we get best R2 score at Engine size so we chose that variable for prediction <h3>"
      ]
    },
    {
      "cell_type": "code",
      "metadata": {
        "id": "ReoSF5-luMx-"
      },
      "source": [
        ""
      ],
      "execution_count": null,
      "outputs": []
    },
    {
      "cell_type": "markdown",
      "metadata": {
        "id": "rev0PGHJvpiV"
      },
      "source": [
        "<h3> Here some experiments are still waiting :) </h3>"
      ]
    }
  ]
}